{
 "cells": [
  {
   "cell_type": "code",
   "execution_count": 35,
   "id": "5db7d668",
   "metadata": {},
   "outputs": [],
   "source": [
    "import numpy as np\n",
    "import matplotlib.pyplot as plt"
   ]
  },
  {
   "cell_type": "code",
   "execution_count": 36,
   "id": "f7bd7b17",
   "metadata": {},
   "outputs": [],
   "source": [
    "class EnzymeKinetics:\n",
    "    def __init__(self, k1, k2, k3, k4, k5, S0, E0, A0, P0, I0, B0):\n",
    "        self.k1 = k1\n",
    "        self.k2 = k2\n",
    "        self.k3 = k3\n",
    "        self.k4 = k4\n",
    "        self.k5 = k5\n",
    "        \n",
    "        self.S = [S0]\n",
    "        self.E = [E0]\n",
    "        self.A = [A0]\n",
    "        self.P = [P0]\n",
    "        self.I = [I0]\n",
    "        self.B = [B0]\n",
    "    \n",
    "    def euler(self, dt):\n",
    "        S = self.S[-1] + dt*(-self.k1*self.S[-1]*self.E[-1] + self.k2*self.A[-1])\n",
    "        E = self.E[-1] + dt*(-self.k1*self.S[-1]*self.E[-1] + self.k2*self.A[-1] + self.k3*self.A[-1])\n",
    "        A = self.A[-1] + dt*(self.k1*self.S[-1]*self.E[-1] - self.k2*self.A[-1] -self.k3*self.A[-1])\n",
    "        P = self.P[-1] + dt*(self.k3*self.A[-1])\n",
    "        I = self.I[-1] + dt*(-self.k4*self.B[-1] + self.k5*self.B[-1])\n",
    "        B = self.B[-1] + dt*(self.k4*self.B[-1] -self.k5*self.B[-1])\n",
    "        self.S.append(S)\n",
    "        self.E.append(E)\n",
    "        self.A.append(A)\n",
    "        self.P.append(P)\n",
    "        self.I.append(I)\n",
    "        self.B.append(B)\n",
    "        "
   ]
  },
  {
   "cell_type": "code",
   "execution_count": 37,
   "id": "2b5f38ee",
   "metadata": {},
   "outputs": [
    {
     "name": "stdout",
     "output_type": "stream",
     "text": [
      "2000\n"
     ]
    }
   ],
   "source": [
    "N = 2000 # number of intervalls.\n",
    "tMax = 60.0 #seconds.\n",
    "t = np.linspace(0,tMax,N)\n",
    "dt = tMax/N\n",
    "print(len(t))\n"
   ]
  },
  {
   "cell_type": "code",
   "execution_count": 38,
   "id": "2ac65db8",
   "metadata": {},
   "outputs": [],
   "source": [
    "EK = EnzymeKinetics(2,3,5,6,2,5,6,4,2,1,4)\n",
    "\n",
    "for i in range(N-1):\n",
    "    EK.euler(dt)"
   ]
  }
 ],
 "metadata": {
  "kernelspec": {
   "display_name": "Python 3.9.13 64-bit (microsoft store)",
   "language": "python",
   "name": "python3"
  },
  "language_info": {
   "codemirror_mode": {
    "name": "ipython",
    "version": 3
   },
   "file_extension": ".py",
   "mimetype": "text/x-python",
   "name": "python",
   "nbconvert_exporter": "python",
   "pygments_lexer": "ipython3",
   "version": "3.9.13"
  },
  "vscode": {
   "interpreter": {
    "hash": "caa8509d2d17f01a449872a6b45092bd9e9a96d0eb8941f46476ca8deab12d57"
   }
  }
 },
 "nbformat": 4,
 "nbformat_minor": 5
}
