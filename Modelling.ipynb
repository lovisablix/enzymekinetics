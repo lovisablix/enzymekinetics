{
 "cells": [
  {
   "cell_type": "code",
   "execution_count": 3,
   "id": "5db7d668",
   "metadata": {},
   "outputs": [],
   "source": [
    "import numpy as np\n",
    "import matplotlib.pyplot as plt"
   ]
  },
  {
   "cell_type": "code",
   "execution_count": 11,
   "id": "f7bd7b17",
   "metadata": {},
   "outputs": [],
   "source": [
    "class EnzymeKinetics:\n",
    "    def __init__(self, k1, k2, k3, k4, k5, S0, E0, A0, P0, I0, B0):\n",
    "        self.k1 = k1\n",
    "        self.k2 = k2\n",
    "        self.k3 = k3\n",
    "        self.k4 = k4\n",
    "        self.k5 = k5\n",
    "        \n",
    "        self.substrate = [S0]\n",
    "        self.enzyme = [E0]\n",
    "        self.A_complex = [A0]\n",
    "        self.product = [P0]\n",
    "        self.inhibitor = [I0]\n",
    "        self.B_complex = [B0]\n",
    "        \n",
    "    def model(self, O):\n",
    "        S, E, A, P, I, B = O\n",
    "        F = np.zeros(6)\n",
    "        F[0] = -self.k1*S*E + self.k2*A\n",
    "        F[1] = -self.k1*S*E + self.k2*A + self.k3*A\n",
    "        F[2] = self.k1*S*E - self.k2*A -self.k3*A\n",
    "        F[3] = self.k3*A\n",
    "        F[4] = -self.k4*B + self.k5*B \n",
    "        F[5] = self.k4*B -self.k5*B\n",
    "        return(F)\n",
    "    \n",
    "    def euler(self, dt):\n",
    "        Ovec = np.empty((6, t.size), float)\n",
    "        Ovec[0,0] = self.substrate\n",
    "        Ovec[1,0] = self.enzyme\n",
    "        Ovec[2,0] = self.A_complex\n",
    "        Ovec[3,0] = self.product\n",
    "        Ovec[4,0] = self.inhibitor\n",
    "        Ovec[5,0] = self.B_complex\n",
    "        O = Ovec[:,0]\n",
    "        i = 0 \n",
    "        for t in t[:-1]:\n",
    "            O = O + dt * model(self, O)\n",
    "            i += 1\n",
    "            Ovec[:,i] = O\n",
    "        return(Ovec)\n",
    "        \n",
    "        "
   ]
  },
  {
   "cell_type": "code",
   "execution_count": 12,
   "id": "2b5f38ee",
   "metadata": {},
   "outputs": [],
   "source": [
    "N = 2000 # number of intervalls.\n",
    "tMax = 60 #seconds.\n",
    "t = np.linspace(0,tMax,int(N+1))\n",
    "dt = tMax/N"
   ]
  },
  {
   "cell_type": "code",
   "execution_count": 13,
   "id": "2ac65db8",
   "metadata": {},
   "outputs": [
    {
     "ename": "TypeError",
     "evalue": "EnzymeKinetics.euler() missing 1 required positional argument: 'dt'",
     "output_type": "error",
     "traceback": [
      "\u001b[0;31m---------------------------------------------------------------------------\u001b[0m",
      "\u001b[0;31mTypeError\u001b[0m                                 Traceback (most recent call last)",
      "Cell \u001b[0;32mIn [13], line 1\u001b[0m\n\u001b[0;32m----> 1\u001b[0m EnzymeKinetics\u001b[38;5;241m.\u001b[39meuler(dt)\n",
      "\u001b[0;31mTypeError\u001b[0m: EnzymeKinetics.euler() missing 1 required positional argument: 'dt'"
     ]
    }
   ],
   "source": [
    "EnzymeKinetics.euler(dt)"
   ]
  },
  {
   "cell_type": "code",
   "execution_count": null,
   "id": "8e1700e0",
   "metadata": {},
   "outputs": [],
   "source": []
  }
 ],
 "metadata": {
  "kernelspec": {
   "display_name": "Python 3 (ipykernel)",
   "language": "python",
   "name": "python3"
  },
  "language_info": {
   "codemirror_mode": {
    "name": "ipython",
    "version": 3
   },
   "file_extension": ".py",
   "mimetype": "text/x-python",
   "name": "python",
   "nbconvert_exporter": "python",
   "pygments_lexer": "ipython3",
   "version": "3.10.6"
  }
 },
 "nbformat": 4,
 "nbformat_minor": 5
}
