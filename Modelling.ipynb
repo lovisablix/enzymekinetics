{
 "cells": [
  {
   "cell_type": "code",
   "execution_count": 3,
   "id": "5db7d668",
   "metadata": {},
   "outputs": [],
   "source": [
    "import numpy as np\n",
    "import matplotlib.pbyplot as plt"
   ]
  },
  {
   "cell_type": "markdown",
   "id": "3ceaa85a",
   "metadata": {},
   "source": [
    "Här definierar vi modellen + ekvation .. "
   ]
  },
  {
   "cell_type": "code",
   "execution_count": 1,
   "id": "f7bd7b17",
   "metadata": {},
   "outputs": [],
   "source": [
    "class EnzymeKinetics:\n",
    "    def __init__(self, k1, k2, k3, k4, k5, S0, E0, A0, P0, I0, B0): #python skickar med self själv(behöver ej skriva)\n",
    "        self.k1 = k1 #skapas en variabel som heter calle.k1 om jag callar Calle=EnzymeKinetics(..) som jag sätter till värdet k1\n",
    "        self.k2 = k2\n",
    "        self.k3 = k3\n",
    "        self.k4 = k4\n",
    "        self.k5 = k5\n",
    "        \n",
    "        self.substrate = [S0]\n",
    "        self.enzyme = [E0]\n",
    "        self.A_complex = [A0]\n",
    "        self.product = [P0]\n",
    "        self.inhibitor = [I0]\n",
    "        self.B_complex = [B0]\n",
    "        \n",
    "        \n",
    "    def model(self, V):\n",
    "        S, E, A, P, I, B = V\n",
    "        F = np.zeros(6)\n",
    "        F[0] = -self.k1*S*E + self.k2*A\n",
    "        F[1] = -self.k1*S*E + self.k2*A + self.k3*A\n",
    "        F[2] = self.k1*S*E - self.k2*A -self.k3*A\n",
    "        F[3] = self.k3*A\n",
    "        F[4] = -self.k4*B + self.k5*B \n",
    "        F[5] = self.k4*B -self.k5*B\n",
    "        return(F)\n",
    "    \n",
    "    def euler(self, dt,tsize): #systemet ska flytta sig ett hack i tiden, systemvartiablerna ska uppdateras, \n",
    "        tsize = t.size\n",
    "        Ovec = np.empty((6, tsize), float)\n",
    "        Ovec[0,0] = self.substrate\n",
    "        Ovec[1,0] = self.enzyme\n",
    "        Ovec[2,0] = self.A_complex\n",
    "        Ovec[3,0] = self.product\n",
    "        Ovec[4,0] = self.inhibitor\n",
    "        Ovec[5,0] = self.B_complex\n",
    "        V = Ovec[:,0]\n",
    "        V = V + dt * self.model(self, V)\n",
    "        Ovec[:,i] = V\n",
    "        return(Ovec)\n",
    "        \n",
    "        "
   ]
  },
  {
   "cell_type": "code",
   "execution_count": 2,
   "id": "2b5f38ee",
   "metadata": {},
   "outputs": [
    {
     "ename": "NameError",
     "evalue": "name 'np' is not defined",
     "output_type": "error",
     "traceback": [
      "\u001b[0;31m---------------------------------------------------------------------------\u001b[0m",
      "\u001b[0;31mNameError\u001b[0m                                 Traceback (most recent call last)",
      "Cell \u001b[0;32mIn [2], line 3\u001b[0m\n\u001b[1;32m      1\u001b[0m N \u001b[38;5;241m=\u001b[39m \u001b[38;5;241m2000\u001b[39m \u001b[38;5;66;03m# number of intervalls.\u001b[39;00m\n\u001b[1;32m      2\u001b[0m tMax \u001b[38;5;241m=\u001b[39m \u001b[38;5;241m60\u001b[39m \u001b[38;5;66;03m#seconds.\u001b[39;00m\n\u001b[0;32m----> 3\u001b[0m t \u001b[38;5;241m=\u001b[39m np\u001b[38;5;241m.\u001b[39mlinspace(\u001b[38;5;241m0\u001b[39m,tMax,\u001b[38;5;28mint\u001b[39m(N\u001b[38;5;241m+\u001b[39m\u001b[38;5;241m1\u001b[39m))\n\u001b[1;32m      4\u001b[0m dt \u001b[38;5;241m=\u001b[39m tMax\u001b[38;5;241m/\u001b[39mN\n",
      "\u001b[0;31mNameError\u001b[0m: name 'np' is not defined"
     ]
    }
   ],
   "source": [
    "N = 2000 # number of intervalls.\n",
    "tMax = 60 #seconds.\n",
    "t = np.linspace(0,tMax,int(N+1))\n",
    "dt = tMax/N"
   ]
  },
  {
   "cell_type": "code",
   "execution_count": 3,
   "id": "2ac65db8",
   "metadata": {},
   "outputs": [
    {
     "ename": "NameError",
     "evalue": "name 'k1' is not defined",
     "output_type": "error",
     "traceback": [
      "\u001b[0;31m---------------------------------------------------------------------------\u001b[0m",
      "\u001b[0;31mNameError\u001b[0m                                 Traceback (most recent call last)",
      "Cell \u001b[0;32mIn [3], line 1\u001b[0m\n\u001b[0;32m----> 1\u001b[0m EK \u001b[38;5;241m=\u001b[39m EnzymeKinetics(k1, k2, k3, k4, k5, S0, E0, A0, P0, I0, B0)\n\u001b[1;32m      3\u001b[0m \u001b[38;5;28;01mfor\u001b[39;00m i \u001b[38;5;129;01min\u001b[39;00m \u001b[38;5;28mrange\u001b[39m(N):\n\u001b[1;32m      4\u001b[0m     EK\u001b[38;5;241m.\u001b[39meuler(dt)\n",
      "\u001b[0;31mNameError\u001b[0m: name 'k1' is not defined"
     ]
    }
   ],
   "source": [
    "EK = EnzymeKinetics(k1, k2, k3, k4, k5, S0, E0, A0, P0, I0, B0)\n",
    "\n",
    "for i in range(N):\n",
    "    EK.euler(dt)"
   ]
  },
  {
   "cell_type": "code",
   "execution_count": null,
   "id": "8e1700e0",
   "metadata": {},
   "outputs": [],
   "source": []
  }
 ],
 "metadata": {
  "kernelspec": {
   "display_name": "Python 3 (ipykernel)",
   "language": "python",
   "name": "python3"
  },
  "language_info": {
   "codemirror_mode": {
    "name": "ipython",
    "version": 3
   },
   "file_extension": ".py",
   "mimetype": "text/x-python",
   "name": "python",
   "nbconvert_exporter": "python",
   "pygments_lexer": "ipython3",
   "version": "3.10.6"
  }
 },
 "nbformat": 4,
 "nbformat_minor": 5
}
